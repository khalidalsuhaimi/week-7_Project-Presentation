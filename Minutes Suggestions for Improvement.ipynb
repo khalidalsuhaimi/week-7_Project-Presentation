{
 "cells": [
  {
   "cell_type": "code",
   "execution_count": null,
   "metadata": {},
   "outputs": [],
   "source": []
  },
  {
   "cell_type": "markdown",
   "metadata": {},
   "source": [
    "Minutes Suggestions for Improvement:\n",
    "\n",
    "1-\tAdded more tool for Evaluating our Model, to be more accuracy.\n",
    "2-\tAdd figure to display the model result.\n",
    "3-\tIn the future we can add visualisation regression.\n",
    "\n",
    "# The most important Question is how the score method from pandas measure the accuracy?\n",
    "The answer is the method computes the accuracy score by default.\n",
    "\n",
    "https://www.kaggle.com/dansbecker/melbourne-housing-snapshot\n",
    "\n"
   ]
  }
 ],
 "metadata": {
  "language_info": {
   "name": "python"
  }
 },
 "nbformat": 4,
 "nbformat_minor": 5
}
